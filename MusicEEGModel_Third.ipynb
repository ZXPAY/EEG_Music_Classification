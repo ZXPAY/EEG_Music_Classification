{
 "cells": [
  {
   "cell_type": "markdown",
   "metadata": {},
   "source": [
    "# 資料預處理"
   ]
  },
  {
   "cell_type": "code",
   "execution_count": 317,
   "metadata": {},
   "outputs": [],
   "source": [
    "import os\n",
    "os.chdir(\"C:\\\\Users\\\\zxpay\\\\Desktop\\\\BME_Senior\\\\EEG_CLF\\\\Music\\\\Code\")\n",
    "import sys\n",
    "\n",
    "from Get_file import Get_file   # return dirpath, dirnames, filenames\n",
    "import pandas as pd\n",
    "from FFT import FFT, PlotDataOnTimeDomain\n",
    "from BandPassFilter import BandPassFilter, PlotDataOnFreqDomain, BandPassListFilter\n",
    "import pyedflib\n",
    "import numpy as np\n",
    "import datetime\n",
    "from Danny_ML_CLF import Danny_ML_CLF\n",
    "\n",
    "import matplotlib.pyplot as plt\n",
    "from sklearn.decomposition import FastICA, PCA\n",
    "\n",
    "%matplotlib inline\n",
    "\n",
    "data_path_third = \"C:\\\\Users\\\\zxpay\\\\Desktop\\\\BME_Senior\\\\EEG_CLF\\\\Music\\\\第三首歌實驗數據\"  # EEG Data direction\n",
    "\n",
    "# Setting parameters\n",
    "SampleFrequency = 128\n",
    "DEBUG = True\n",
    "LabelSize = 40\n",
    "LowerFreqCut = 1\n",
    "HigherFreqCut = 50\n",
    "BandPassOrder = 9\n",
    "channel_we_use = [2,3,4,5,6,7,8,9,10,11,12,13,14,15]   # 0~39 共40, 14 channels we use\n",
    "SAVE_FIG = False\n"
   ]
  },
  {
   "cell_type": "code",
   "execution_count": 2,
   "metadata": {
    "collapsed": true
   },
   "outputs": [],
   "source": [
    "def CalculateZeros(NumpyArray):\n",
    "    LogicWithZeros = (NumpyArray == 0)\n",
    "    return np.sum(LogicWithZeros)\n",
    "def Cal(minu, sec):\n",
    "    mid = minu*60 + sec\n",
    "    return [mid-0, mid+60]\n",
    "\n",
    "# TimeSecondsi : Occur seconds init\n",
    "# TimeSecondsf : Occur seconds final\n",
    "def GrabMusic(SignalList, StudentName, TimeList, fs=128):\n",
    "    channel_we_use = [2,3,4,5,6,7,8,9,10,11,12,13,14,15]   # 0~39 共40, 14 channels we use\n",
    "    Indexi = TimeList[0] * fs\n",
    "    Indexf = TimeList[1] * fs\n",
    "    \n",
    "    DataNums = int(len(SignalList)/2)\n",
    "    for i in range(DataNums):\n",
    "        StdName = SignalList[2*i+1]\n",
    "        if StdName ==  StudentName:\n",
    "            LabelNum = SignalList[i*2].shape[0]\n",
    "            ReturnAllChannelTimeSliceData = np.zeros([len(channel_we_use), (Indexf-Indexi)], dtype=np.float32)\n",
    "            for ch in range(LabelNum):\n",
    "                ReturnAllChannelTimeSliceData[ch, :] = SignalList[i*2][ch][Indexi:Indexf]\n",
    "                \n",
    "            if CalculateZeros(ReturnAllChannelTimeSliceData) == 0:\n",
    "                print(StdName, ReturnAllChannelTimeSliceData.shape)\n",
    "                return ReturnAllChannelTimeSliceData\n",
    "            else:\n",
    "                print(\"Warning: Have Zero Values in the Numpy array !!!\")\n",
    "    print('None')\n",
    "    return None"
   ]
  },
  {
   "cell_type": "code",
   "execution_count": 3,
   "metadata": {
    "scrolled": true
   },
   "outputs": [
    {
     "name": "stdout",
     "output_type": "stream",
     "text": [
      "佑信\n",
      "Data Shape :  (14, 192000)\n",
      "佳府\n",
      "Data Shape :  (14, 192000)\n",
      "侲儒\n",
      "Data Shape :  (14, 192128)\n",
      "偉倫\n",
      "Data Shape :  (14, 192128)\n",
      "冠廷\n",
      "Data Shape :  (14, 192128)\n",
      "冠翰\n",
      "Data Shape :  (14, 192128)\n",
      "凱佑\n",
      "Data Shape :  (14, 192000)\n",
      "凱文\n",
      "Data Shape :  (14, 192128)\n",
      "勁遠\n",
      "Data Shape :  (14, 192384)\n",
      "學明\n",
      "Data Shape :  (14, 192128)\n",
      "宜駿\n",
      "Data Shape :  (14, 153600)\n",
      "弘軒\n",
      "Data Shape :  (14, 192000)\n",
      "思強\n",
      "Data Shape :  (14, 192128)\n",
      "政豪\n",
      "Data Shape :  (14, 192256)\n",
      "旻位\n",
      "Data Shape :  (14, 192128)\n",
      "昀翔\n",
      "Data Shape :  (14, 192128)\n",
      "昆陽\n",
      "Data Shape :  (14, 192128)\n",
      "易儒\n",
      "Data Shape :  (14, 207488)\n",
      "易達\n",
      "Data Shape :  (14, 153728)\n",
      "柏廷\n",
      "Data Shape :  (14, 192000)\n",
      "柏澍\n",
      "Data Shape :  (14, 192128)\n",
      "柏瑋\n",
      "Data Shape :  (14, 192128)\n",
      "柏翰\n",
      "Data Shape :  (14, 192256)\n",
      "榮恩\n",
      "Data Shape :  (14, 192256)\n",
      "瑞堂\n",
      "Data Shape :  (14, 192640)\n",
      "竣宇\n",
      "Data Shape :  (14, 192128)\n",
      "聖書\n",
      "Data Shape :  (14, 192128)\n",
      "連成\n",
      "Data Shape :  (14, 192256)\n",
      "銘彥\n",
      "Data Shape :  (14, 192128)\n",
      "靖翔\n",
      "Data Shape :  (14, 192128)\n",
      "Data Length :  60\n",
      "奇數是腦波數據\n",
      "偶數是實驗者\n"
     ]
    }
   ],
   "source": [
    "# 抓取第三首歌的數據\n",
    "os.chdir(data_path_third)\n",
    "PLOT_FLAG = False\n",
    "Files = []\n",
    "RawSignal = []\n",
    "for _,files,_ in os.walk(data_path_third):\n",
    "    if files != []:\n",
    "        Files.append(files)\n",
    "PeopleFiles = Files[0]  # Get All People files in this list\n",
    "\n",
    "for name in PeopleFiles:\n",
    "    _,_,file_names = Get_file(data_path_third+'\\\\'+name+'\\\\'+'原始資料')\n",
    "    print(name)\n",
    "    for fn in file_names:  # fn os file name\n",
    "        if 'Fixedx.edf' in fn:\n",
    "            StudentID = fn.split('.')[0][0:7]\n",
    "            data_dir = data_path_third+'\\\\'+ name + '\\\\' + '原始資料' + '\\\\' + fn\n",
    "            os.chdir(data_path_third+'\\\\'+ name + '\\\\' + '原始資料' + '\\\\')\n",
    "            fedf = pyedflib.EdfReader(fn)\n",
    "            n = fedf.signals_in_file\n",
    "            signal_labels = np.asarray(fedf.getSignalLabels())\n",
    "            sigbufs = np.zeros((len(channel_we_use), fedf.getNSamples()[0]))\n",
    "            print('Data Shape : ', sigbufs.shape)\n",
    "            CHCNT = 0\n",
    "            for i in range(n):\n",
    "                if i in channel_we_use:\n",
    "                    sigbufs[CHCNT,:] = fedf.readSignal(i)\n",
    "                    CHCNT+=1\n",
    "                    if PLOT_FLAG:\n",
    "                        plt.figure(figsize=(12,8))\n",
    "                        x = np.linspace(0, sigbufs[i,:].shape[0]/128, sigbufs[i,:].shape[0])\n",
    "                        plt.plot(x, sigbufs[i,:], 'r*')\n",
    "                        plt.show()\n",
    "            if CalculateZeros(sigbufs):\n",
    "                print('Warning Have All zero in array !!!')\n",
    "            RawSignal.append(sigbufs)\n",
    "            RawSignal.append(name)\n",
    "\n",
    "print('Data Length : ', len(RawSignal))\n",
    "print('奇數是腦波數據\\n偶數是實驗者')"
   ]
  },
  {
   "cell_type": "code",
   "execution_count": 4,
   "metadata": {
    "scrolled": true
   },
   "outputs": [
    {
     "name": "stdout",
     "output_type": "stream",
     "text": [
      "佳府 (14, 7680)\n",
      "旻位 (14, 7680)\n",
      "旻位 (14, 7680)\n",
      "侲儒 (14, 7680)\n",
      "冠廷 (14, 7680)\n",
      "冠廷 (14, 7680)\n",
      "冠翰 (14, 7680)\n",
      "冠翰 (14, 7680)\n",
      "柏瑋 (14, 7680)\n",
      "柏瑋 (14, 7680)\n",
      "柏翰 (14, 7680)\n",
      "柏翰 (14, 7680)\n",
      "思強 (14, 7680)\n",
      "思強 (14, 7680)\n",
      "昀翔 (14, 7680)\n",
      "昀翔 (14, 7680)\n",
      "聖書 (14, 7680)\n",
      "聖書 (14, 7680)\n",
      "銘彥 (14, 7680)\n",
      "銘彥 (14, 7680)\n",
      "凱佑 (14, 7680)\n",
      "凱佑 (14, 7680)\n",
      "學明 (14, 7680)\n",
      "學明 (14, 7680)\n",
      "竣宇 (14, 7680)\n",
      "竣宇 (14, 7680)\n",
      "Normal Length :  26\n"
     ]
    }
   ],
   "source": [
    "# 沒有雙腦波差的數據\n",
    "NormalSignal = []\n",
    "# NormalSignal.append(GrabMusic(RawSignal, '佳府', Cal(2,0), fs=128))\n",
    "NormalSignal.append(GrabMusic(RawSignal, '佳府', Cal(5,0), fs=128))\n",
    "\n",
    "# NormalSignal.append(GrabMusic(RawSignal, '旻位', Cal(1,0), fs=128))\n",
    "# NormalSignal.append(GrabMusic(RawSignal, '旻位', Cal(2,0), fs=128))\n",
    "# NormalSignal.append(GrabMusic(RawSignal, '旻位', Cal(3,0), fs=128))\n",
    "NormalSignal.append(GrabMusic(RawSignal, '旻位', Cal(4,0), fs=128))\n",
    "NormalSignal.append(GrabMusic(RawSignal, '旻位', Cal(5,0), fs=128))\n",
    "\n",
    "NormalSignal.append(GrabMusic(RawSignal, '侲儒', Cal(1,0), fs=128))\n",
    "\n",
    "# NormalSignal.append(GrabMusic(RawSignal, '冠廷', Cal(1,0), fs=128))\n",
    "# NormalSignal.append(GrabMusic(RawSignal, '冠廷', Cal(2,0), fs=128))\n",
    "# NormalSignal.append(GrabMusic(RawSignal, '冠廷', Cal(10,0), fs=128))\n",
    "# NormalSignal.append(GrabMusic(RawSignal, '冠廷', Cal(11,0), fs=128))\n",
    "NormalSignal.append(GrabMusic(RawSignal, '冠廷', Cal(12,0), fs=128))\n",
    "NormalSignal.append(GrabMusic(RawSignal, '冠廷', Cal(13,0), fs=128))\n",
    "\n",
    "# NormalSignal.append(GrabMusic(RawSignal, '冠翰', Cal(1,0), fs=128))\n",
    "# NormalSignal.append(GrabMusic(RawSignal, '冠翰', Cal(2,0), fs=128))\n",
    "# NormalSignal.append(GrabMusic(RawSignal, '冠翰', Cal(3,0), fs=128))\n",
    "# NormalSignal.append(GrabMusic(RawSignal, '冠翰', Cal(4,0), fs=128))\n",
    "# NormalSignal.append(GrabMusic(RawSignal, '冠翰', Cal(5,0), fs=128))\n",
    "NormalSignal.append(GrabMusic(RawSignal, '冠翰', Cal(6,0), fs=128))\n",
    "NormalSignal.append(GrabMusic(RawSignal, '冠翰', Cal(7,0), fs=128))\n",
    "\n",
    "# NormalSignal.append(GrabMusic(RawSignal, '柏瑋', Cal(1,0), fs=128))\n",
    "NormalSignal.append(GrabMusic(RawSignal, '柏瑋', Cal(2,0), fs=128))\n",
    "NormalSignal.append(GrabMusic(RawSignal, '柏瑋', Cal(3,0), fs=128))\n",
    "\n",
    "# NormalSignal.append(GrabMusic(RawSignal, '柏翰', Cal(1,0), fs=128))\n",
    "# NormalSignal.append(GrabMusic(RawSignal, '柏翰', Cal(2,0), fs=128))\n",
    "# NormalSignal.append(GrabMusic(RawSignal, '柏翰', Cal(3,0), fs=128))\n",
    "NormalSignal.append(GrabMusic(RawSignal, '柏翰', Cal(4,0), fs=128))\n",
    "NormalSignal.append(GrabMusic(RawSignal, '柏翰', Cal(5,0), fs=128))\n",
    "\n",
    "# NormalSignal.append(GrabMusic(RawSignal, '思強', Cal(1,0), fs=128))\n",
    "# NormalSignal.append(GrabMusic(RawSignal, '思強', Cal(2,0), fs=128))\n",
    "# NormalSignal.append(GrabMusic(RawSignal, '思強', Cal(3,0), fs=128))\n",
    "NormalSignal.append(GrabMusic(RawSignal, '思強', Cal(4,0), fs=128))\n",
    "NormalSignal.append(GrabMusic(RawSignal, '思強', Cal(5,0), fs=128))\n",
    "\n",
    "# NormalSignal.append(GrabMusic(RawSignal, '昀翔', Cal(1,0), fs=128))\n",
    "# NormalSignal.append(GrabMusic(RawSignal, '昀翔', Cal(2,0), fs=128))\n",
    "# NormalSignal.append(GrabMusic(RawSignal, '昀翔', Cal(3,0), fs=128))\n",
    "NormalSignal.append(GrabMusic(RawSignal, '昀翔', Cal(4,0), fs=128))\n",
    "NormalSignal.append(GrabMusic(RawSignal, '昀翔', Cal(5,0), fs=128))\n",
    "\n",
    "# NormalSignal.append(GrabMusic(RawSignal, '聖書', Cal(1,0), fs=128))\n",
    "# NormalSignal.append(GrabMusic(RawSignal, '聖書', Cal(2,0), fs=128))\n",
    "# NormalSignal.append(GrabMusic(RawSignal, '聖書', Cal(3,0), fs=128))\n",
    "NormalSignal.append(GrabMusic(RawSignal, '聖書', Cal(4,0), fs=128))\n",
    "NormalSignal.append(GrabMusic(RawSignal, '聖書', Cal(5,0), fs=128))\n",
    "\n",
    "# NormalSignal.append(GrabMusic(RawSignal, '銘彥', Cal(1,0), fs=128))\n",
    "# NormalSignal.append(GrabMusic(RawSignal, '銘彥', Cal(2,0), fs=128))\n",
    "# NormalSignal.append(GrabMusic(RawSignal, '銘彥', Cal(3,0), fs=128))\n",
    "NormalSignal.append(GrabMusic(RawSignal, '銘彥', Cal(4,0), fs=128))\n",
    "NormalSignal.append(GrabMusic(RawSignal, '銘彥', Cal(5,0), fs=128))\n",
    "\n",
    "# NormalSignal.append(GrabMusic(RawSignal, '凱佑', Cal(1,0), fs=128))\n",
    "# NormalSignal.append(GrabMusic(RawSignal, '凱佑', Cal(2,0), fs=128))\n",
    "# NormalSignal.append(GrabMusic(RawSignal, '凱佑', Cal(3,0), fs=128))\n",
    "NormalSignal.append(GrabMusic(RawSignal, '凱佑', Cal(4,0), fs=128))\n",
    "NormalSignal.append(GrabMusic(RawSignal, '凱佑', Cal(5,0), fs=128))\n",
    "\n",
    "# NormalSignal.append(GrabMusic(RawSignal, '學明', Cal(1,0), fs=128))\n",
    "# NormalSignal.append(GrabMusic(RawSignal, '學明', Cal(2,0), fs=128))\n",
    "# NormalSignal.append(GrabMusic(RawSignal, '學明', Cal(3,0), fs=128))\n",
    "# NormalSignal.append(GrabMusic(RawSignal, '學明', Cal(4,0), fs=128))\n",
    "NormalSignal.append(GrabMusic(RawSignal, '學明', Cal(5,0), fs=128))\n",
    "NormalSignal.append(GrabMusic(RawSignal, '學明', Cal(6,0), fs=128))\n",
    "\n",
    "# NormalSignal.append(GrabMusic(RawSignal, '竣宇', Cal(1,0), fs=128))\n",
    "# NormalSignal.append(GrabMusic(RawSignal, '竣宇', Cal(2,0), fs=128))\n",
    "# NormalSignal.append(GrabMusic(RawSignal, '竣宇', Cal(3,0), fs=128))\n",
    "NormalSignal.append(GrabMusic(RawSignal, '竣宇', Cal(4,0), fs=128))\n",
    "NormalSignal.append(GrabMusic(RawSignal, '竣宇', Cal(5,0), fs=128))\n",
    "\n",
    "print('Normal Length : ', len(NormalSignal))"
   ]
  },
  {
   "cell_type": "code",
   "execution_count": 5,
   "metadata": {},
   "outputs": [
    {
     "name": "stdout",
     "output_type": "stream",
     "text": [
      "旻位 (14, 7680)\n",
      "旻位 (14, 7680)\n",
      "旻位 (14, 7680)\n",
      "侲儒 (14, 7680)\n",
      "侲儒 (14, 7680)\n",
      "侲儒 (14, 7680)\n",
      "侲儒 (14, 7680)\n",
      "侲儒 (14, 7680)\n",
      "侲儒 (14, 7680)\n",
      "冠廷 (14, 7680)\n",
      "冠翰 (14, 7680)\n",
      "柏瑋 (14, 7680)\n",
      "柏瑋 (14, 7680)\n",
      "柏瑋 (14, 7680)\n",
      "偉倫 (14, 7680)\n",
      "偉倫 (14, 7680)\n",
      "凱佑 (14, 7680)\n",
      "凱佑 (14, 7680)\n",
      "竣宇 (14, 7680)\n",
      "靖翔 (14, 7680)\n",
      "銘彥 (14, 7680)\n",
      "Grab Length :  21\n"
     ]
    }
   ],
   "source": [
    "# 有雙腦波差的數據\n",
    "GrabSignal = []\n",
    "# GrabSignal.append(GrabMusic(RawSignal, '佳府', Cal(7,0), fs=128))\n",
    "# GrabSignal.append(GrabMusic(RawSignal, '佳府', Cal(11,0), fs=128))\n",
    "\n",
    "GrabSignal.append(GrabMusic(RawSignal, '旻位', Cal(16,0), fs=128))\n",
    "# GrabSignal.append(GrabMusic(RawSignal, '旻位', Cal(21,0), fs=128))\n",
    "# GrabSignal.append(GrabMusic(RawSignal, '旻位', Cal(22,0), fs=128))\n",
    "GrabSignal.append(GrabMusic(RawSignal, '旻位', Cal(23,0), fs=128))\n",
    "GrabSignal.append(GrabMusic(RawSignal, '旻位', Cal(24,0), fs=128))\n",
    "\n",
    "# GrabSignal.append(GrabMusic(RawSignal, '侲儒', Cal(2,0), fs=128))\n",
    "# GrabSignal.append(GrabMusic(RawSignal, '侲儒', Cal(5,0), fs=128))\n",
    "# GrabSignal.append(GrabMusic(RawSignal, '侲儒', Cal(7,0), fs=128))\n",
    "# GrabSignal.append(GrabMusic(RawSignal, '侲儒', Cal(8,0), fs=128))\n",
    "# GrabSignal.append(GrabMusic(RawSignal, '侲儒', Cal(9,0), fs=128))\n",
    "# GrabSignal.append(GrabMusic(RawSignal, '侲儒', Cal(11,0), fs=128))\n",
    "GrabSignal.append(GrabMusic(RawSignal, '侲儒', Cal(12,0), fs=128))\n",
    "GrabSignal.append(GrabMusic(RawSignal, '侲儒', Cal(13,0), fs=128))\n",
    "GrabSignal.append(GrabMusic(RawSignal, '侲儒', Cal(14,0), fs=128))\n",
    "# GrabSignal.append(GrabMusic(RawSignal, '侲儒', Cal(15,0), fs=128))\n",
    "# GrabSignal.append(GrabMusic(RawSignal, '侲儒', Cal(17,0), fs=128))\n",
    "# GrabSignal.append(GrabMusic(RawSignal, '侲儒', Cal(18,0), fs=128))\n",
    "GrabSignal.append(GrabMusic(RawSignal, '侲儒', Cal(20,0), fs=128))\n",
    "GrabSignal.append(GrabMusic(RawSignal, '侲儒', Cal(21,0), fs=128))\n",
    "GrabSignal.append(GrabMusic(RawSignal, '侲儒', Cal(24,1), fs=128))\n",
    "\n",
    "# GrabSignal.append(GrabMusic(RawSignal, '冠廷', Cal(4,0), fs=128))\n",
    "GrabSignal.append(GrabMusic(RawSignal, '冠廷', Cal(6,0), fs=128))\n",
    "# GrabSignal.append(GrabMusic(RawSignal, '冠廷', Cal(7,0), fs=128))\n",
    "\n",
    "# GrabSignal.append(GrabMusic(RawSignal, '冠翰', Cal(13,0), fs=128))\n",
    "# GrabSignal.append(GrabMusic(RawSignal, '冠翰', Cal(14,0), fs=128))\n",
    "# GrabSignal.append(GrabMusic(RawSignal, '冠翰', Cal(16,0), fs=128))\n",
    "GrabSignal.append(GrabMusic(RawSignal, '冠翰', Cal(17,0), fs=128))\n",
    "\n",
    "GrabSignal.append(GrabMusic(RawSignal, '柏瑋', Cal(5,0), fs=128))\n",
    "GrabSignal.append(GrabMusic(RawSignal, '柏瑋', Cal(11,0), fs=128))\n",
    "GrabSignal.append(GrabMusic(RawSignal, '柏瑋', Cal(16,0), fs=128))\n",
    "\n",
    "# GrabSignal.append(GrabMusic(RawSignal, '柏翰', Cal(24,0), fs=128))\n",
    "\n",
    "# GrabSignal.append(GrabMusic(RawSignal, '偉倫', Cal(12,0), fs=128))\n",
    "GrabSignal.append(GrabMusic(RawSignal, '偉倫', Cal(13,0), fs=128))\n",
    "# GrabSignal.append(GrabMusic(RawSignal, '偉倫', Cal(14,0), fs=128))\n",
    "# GrabSignal.append(GrabMusic(RawSignal, '偉倫', Cal(18,0), fs=128))\n",
    "# GrabSignal.append(GrabMusic(RawSignal, '偉倫', Cal(19,0), fs=128))\n",
    "GrabSignal.append(GrabMusic(RawSignal, '偉倫', Cal(20,0), fs=128))\n",
    "\n",
    "GrabSignal.append(GrabMusic(RawSignal, '凱佑', Cal(18,0), fs=128))\n",
    "GrabSignal.append(GrabMusic(RawSignal, '凱佑', Cal(20,0), fs=128))\n",
    "\n",
    "GrabSignal.append(GrabMusic(RawSignal, '竣宇', Cal(19,0), fs=128))\n",
    "\n",
    "GrabSignal.append(GrabMusic(RawSignal, '靖翔', Cal(1,0), fs=128))\n",
    "\n",
    "# GrabSignal.append(GrabMusic(RawSignal, '銘彥', Cal(13,0), fs=128))\n",
    "GrabSignal.append(GrabMusic(RawSignal, '銘彥', Cal(20,0), fs=128))\n",
    "# GrabSignal.append(GrabMusic(RawSignal, '銘彥', Cal(23,0), fs=128))\n",
    "# GrabSignal.append(GrabMusic(RawSignal, '銘彥', Cal(24,0), fs=128))\n",
    "\n",
    "# GrabSignal.append(GrabMusic(RawSignal, '學明', Cal(16,0), fs=128))\n",
    "# GrabSignal.append(GrabMusic(RawSignal, '學明', Cal(17,0), fs=128))\n",
    "# GrabSignal.append(GrabMusic(RawSignal, '學明', Cal(20,0), fs=128))\n",
    "\n",
    "print('Grab Length : ', len(GrabSignal))"
   ]
  },
  {
   "cell_type": "code",
   "execution_count": 80,
   "metadata": {
    "scrolled": true
   },
   "outputs": [
    {
     "name": "stdout",
     "output_type": "stream",
     "text": [
      "Sleep Data Shape :  (14, 1260, 64)\n"
     ]
    }
   ],
   "source": [
    "PLOT_FLAG = False\n",
    "# 8~40 Hz as my features (33 dimensions)\n",
    "\n",
    "features_num = 64\n",
    "\n",
    "signal_features = np.zeros([14, 1260, features_num], dtype=np.float32)   # 21 * 60\n",
    "cnt = 0\n",
    "for i in range(len(GrabSignal)):\n",
    "    Split_Times = int(GrabSignal[i].shape[1]/128)\n",
    "    Split_Num = 0\n",
    "    for sp in range(Split_Times):\n",
    "        for ch in range(len(channel_we_use)):\n",
    "            data = GrabSignal[i][ch][Split_Num:Split_Num+SampleFrequency]\n",
    "            BandPassData = BandPassFilter(data, LowerFreqCut, HigherFreqCut, SampleFrequency)\n",
    "            SignalFreqX, FFTData = FFT(BandPassData, SampleFrequency, SampleFrequency)\n",
    "            signal_features[ch, cnt, :] = FFTData[:]  # 8~40 Hz\n",
    "            if PLOT_FLAG:\n",
    "                plt.figure(figsize=(20,8))\n",
    "                plt.plot(SignalFreqX[:], FFTData[:], '*-')\n",
    "                plt.show()\n",
    "        Split_Num = Split_Num + SampleFrequency\n",
    "        cnt+=1\n",
    "if CalculateZeros(signal_features) != 0:\n",
    "    print('Warning !!!')\n",
    "print('Sleep Data Shape : ', signal_features.shape)   "
   ]
  },
  {
   "cell_type": "code",
   "execution_count": 81,
   "metadata": {},
   "outputs": [
    {
     "name": "stdout",
     "output_type": "stream",
     "text": [
      "Normal Data Shape :  (14, 1560, 64)\n"
     ]
    }
   ],
   "source": [
    "PLOT_FLAG = False\n",
    "# 8~40 Hz as my features (33 dimensions)\n",
    "# Normal\n",
    "features_num = 64\n",
    "\n",
    "signal_Normal = np.zeros([14, 1560, features_num], dtype=np.float32)  # 26 * 60\n",
    "cnt = 0\n",
    "for i in range(len(NormalSignal)):\n",
    "    Split_Times = int(NormalSignal[i].shape[1]/128)\n",
    "    Split_Num = 0\n",
    "    for sp in range(Split_Times):\n",
    "        for ch in range(len(channel_we_use)):\n",
    "            data = NormalSignal[i][ch][Split_Num:Split_Num+SampleFrequency]\n",
    "            BandPassData = BandPassFilter(data, LowerFreqCut, HigherFreqCut, SampleFrequency)\n",
    "            SignalFreqX, FFTData = FFT(BandPassData, SampleFrequency, SampleFrequency)\n",
    "            signal_Normal[ch, cnt, :] = FFTData[:]  # 8~40 Hz\n",
    "            if PLOT_FLAG:\n",
    "                plt.figure(figsize=(20,8))\n",
    "                plt.plot(SignalFreqX[:], FFTData[:], '*-')\n",
    "                plt.show()\n",
    "        Split_Num = Split_Num + SampleFrequency\n",
    "        cnt+=1\n",
    "if CalculateZeros(signal_Normal) != 0:\n",
    "    print('Warning !!!')\n",
    "print('Normal Data Shape : ', signal_Normal.shape)   "
   ]
  },
  {
   "cell_type": "code",
   "execution_count": 10,
   "metadata": {},
   "outputs": [],
   "source": [
    "# Create Labels\n",
    "# ch_choose = 11\n",
    "# label1 = np.ones(signal_features.shape[1]) * 1\n",
    "# label2 = np.ones(signal_Normal.shape[1]) * 0\n",
    "# label = np.hstack((label1, label2))\n",
    "\n",
    "# data = np.vstack((signal_features[ch_choose,:,:], signal_Normal[ch_choose,:,:]))\n",
    "\n",
    "# print(label.shape)\n",
    "# print(data.shape)"
   ]
  },
  {
   "cell_type": "code",
   "execution_count": 314,
   "metadata": {
    "scrolled": true
   },
   "outputs": [
    {
     "name": "stderr",
     "output_type": "stream",
     "text": [
      "C:\\Users\\zxpay\\Anaconda3\\lib\\site-packages\\sklearn\\preprocessing\\label.py:151: DeprecationWarning: The truth value of an empty array is ambiguous. Returning False, but in future this will result in an error. Use `array.size > 0` to check that an array is not empty.\n",
      "  if diff:\n",
      "C:\\Users\\zxpay\\Anaconda3\\lib\\site-packages\\sklearn\\preprocessing\\label.py:151: DeprecationWarning: The truth value of an empty array is ambiguous. Returning False, but in future this will result in an error. Use `array.size > 0` to check that an array is not empty.\n",
      "  if diff:\n",
      "C:\\Users\\zxpay\\Anaconda3\\lib\\site-packages\\sklearn\\preprocessing\\label.py:151: DeprecationWarning: The truth value of an empty array is ambiguous. Returning False, but in future this will result in an error. Use `array.size > 0` to check that an array is not empty.\n",
      "  if diff:\n",
      "C:\\Users\\zxpay\\Anaconda3\\lib\\site-packages\\sklearn\\preprocessing\\label.py:151: DeprecationWarning: The truth value of an empty array is ambiguous. Returning False, but in future this will result in an error. Use `array.size > 0` to check that an array is not empty.\n",
      "  if diff:\n",
      "C:\\Users\\zxpay\\Anaconda3\\lib\\site-packages\\sklearn\\preprocessing\\label.py:151: DeprecationWarning: The truth value of an empty array is ambiguous. Returning False, but in future this will result in an error. Use `array.size > 0` to check that an array is not empty.\n",
      "  if diff:\n",
      "C:\\Users\\zxpay\\Anaconda3\\lib\\site-packages\\sklearn\\preprocessing\\label.py:151: DeprecationWarning: The truth value of an empty array is ambiguous. Returning False, but in future this will result in an error. Use `array.size > 0` to check that an array is not empty.\n",
      "  if diff:\n",
      "C:\\Users\\zxpay\\Anaconda3\\lib\\site-packages\\sklearn\\preprocessing\\label.py:151: DeprecationWarning: The truth value of an empty array is ambiguous. Returning False, but in future this will result in an error. Use `array.size > 0` to check that an array is not empty.\n",
      "  if diff:\n"
     ]
    },
    {
     "name": "stdout",
     "output_type": "stream",
     "text": [
      "SVM Score :  0.6717325227963525\n",
      "Tree Score :  0.6859169199594731\n",
      "Bayes Score :  0.6666666666666666\n",
      "KNN Score :  1.0\n",
      "XGB Score :  0.878419452887538\n",
      "Stacking Score :  1.0\n",
      "Voting Score :  0.9807497467071935\n",
      "Bagging Score :  1.0\n",
      "RF Score :  1.0\n",
      "Adaboost Score :  0.7669706180344478\n",
      "None\n",
      "\n"
     ]
    },
    {
     "name": "stderr",
     "output_type": "stream",
     "text": [
      "C:\\Users\\zxpay\\Anaconda3\\lib\\site-packages\\sklearn\\preprocessing\\label.py:151: DeprecationWarning: The truth value of an empty array is ambiguous. Returning False, but in future this will result in an error. Use `array.size > 0` to check that an array is not empty.\n",
      "  if diff:\n",
      "C:\\Users\\zxpay\\Anaconda3\\lib\\site-packages\\sklearn\\preprocessing\\label.py:151: DeprecationWarning: The truth value of an empty array is ambiguous. Returning False, but in future this will result in an error. Use `array.size > 0` to check that an array is not empty.\n",
      "  if diff:\n",
      "C:\\Users\\zxpay\\Anaconda3\\lib\\site-packages\\sklearn\\preprocessing\\label.py:151: DeprecationWarning: The truth value of an empty array is ambiguous. Returning False, but in future this will result in an error. Use `array.size > 0` to check that an array is not empty.\n",
      "  if diff:\n",
      "C:\\Users\\zxpay\\Anaconda3\\lib\\site-packages\\sklearn\\preprocessing\\label.py:151: DeprecationWarning: The truth value of an empty array is ambiguous. Returning False, but in future this will result in an error. Use `array.size > 0` to check that an array is not empty.\n",
      "  if diff:\n",
      "C:\\Users\\zxpay\\Anaconda3\\lib\\site-packages\\sklearn\\preprocessing\\label.py:151: DeprecationWarning: The truth value of an empty array is ambiguous. Returning False, but in future this will result in an error. Use `array.size > 0` to check that an array is not empty.\n",
      "  if diff:\n"
     ]
    },
    {
     "name": "stdout",
     "output_type": "stream",
     "text": [
      "SVM Score :  0.6111111111111112\n",
      "Tree Score :  0.5910165484633569\n",
      "Bayes Score :  0.6288416075650118\n",
      "KNN Score :  0.549645390070922\n",
      "XGB Score :  0.7044917257683215\n",
      "Stacking Score :  0.549645390070922\n",
      "Voting Score :  0.6962174940898345\n",
      "Bagging Score :  0.6973995271867612\n",
      "RF Score :  0.7009456264775413\n",
      "Adaboost Score :  0.6548463356973995\n",
      "None\n",
      "Report Okay !\n",
      "\n",
      "\n"
     ]
    },
    {
     "name": "stderr",
     "output_type": "stream",
     "text": [
      "C:\\Users\\zxpay\\Anaconda3\\lib\\site-packages\\sklearn\\preprocessing\\label.py:151: DeprecationWarning: The truth value of an empty array is ambiguous. Returning False, but in future this will result in an error. Use `array.size > 0` to check that an array is not empty.\n",
      "  if diff:\n"
     ]
    }
   ],
   "source": [
    "ch_choose = 1\n",
    "os.chdir('C:\\\\Users\\\\zxpay\\\\Desktop\\\\BME_Senior\\\\EEG_CLF\\\\Music\\\\Code')\n",
    "#for ch_choose in range(14):\n",
    "label1 = np.ones(signal_features.shape[1]) * 1\n",
    "label2 = np.ones(signal_Normal.shape[1]) * 0\n",
    "label = np.hstack((label1, label2))\n",
    "\n",
    "data = np.vstack((signal_features[ch_choose,:,:], signal_Normal[ch_choose,:,:]))\n",
    "\n",
    "clf = Danny_ML_CLF()\n",
    "train_X, test_X, train_y, test_y = clf.Split_data(data, label, test_size=0.3, Standard=True)\n",
    "clf.Fit_value(train_X, train_y)\n",
    "clf.Train()\n",
    "clf.Report(train_X, train_y, [1,2], show_cm=False)\n",
    "clf.Report2txt('Train'+ str(ch_choose+1) + '.txt')\n",
    "print(clf.Score())\n",
    "print()\n",
    "clf.Report(test_X, test_y, [1,2], show_cm=False)\n",
    "clf.Report2txt('Test'+ str(ch_choose+1) + '.txt')\n",
    "print(clf.Score())\n",
    "print('Report Okay !\\n\\n')"
   ]
  },
  {
   "cell_type": "code",
   "execution_count": 300,
   "metadata": {
    "collapsed": true
   },
   "outputs": [],
   "source": [
    "from sklearn.cluster import KMeans\n",
    "km = KMeans(n_clusters=2, init='k-means++')\n",
    "y_pred = km.fit_predict(test_X)\n",
    "\n"
   ]
  },
  {
   "cell_type": "code",
   "execution_count": 301,
   "metadata": {},
   "outputs": [],
   "source": [
    "from sklearn.cluster import DBSCAN\n",
    "dbscan = DBSCAN(eps=5, min_samples=5)\n",
    "y_pred_dbscan = dbscan.fit_predict(train_X)\n",
    "\n",
    "from sklearn.cluster import AgglomerativeClustering\n",
    "aggc = AgglomerativeClustering(linkage='ward',n_clusters=2)\n",
    "y_pred_aggc = aggc.fit_predict(train_X)\n",
    "\n",
    "from sklearn.cluster import KMeans\n",
    "km = KMeans(n_clusters=2, verbose=0)\n",
    "y_pred_km = km.fit_predict(train_X)"
   ]
  },
  {
   "cell_type": "code",
   "execution_count": 302,
   "metadata": {},
   "outputs": [
    {
     "name": "stdout",
     "output_type": "stream",
     "text": [
      "0.5020263424518744\n",
      "0.5597771023302939\n",
      "0.5557244174265451\n"
     ]
    }
   ],
   "source": [
    "print(np.sum(y_pred_dbscan==train_y)/(train_y.shape[0]))\n",
    "print(np.sum(y_pred_aggc==train_y)/(train_y.shape[0]))\n",
    "print(np.sum(y_pred_km==train_y)/(train_y.shape[0]))"
   ]
  },
  {
   "cell_type": "code",
   "execution_count": 303,
   "metadata": {},
   "outputs": [
    {
     "data": {
      "text/plain": [
       "array([0, 0, 0, ..., 0, 0, 0], dtype=int64)"
      ]
     },
     "execution_count": 303,
     "metadata": {},
     "output_type": "execute_result"
    }
   ],
   "source": [
    "y_pred_dbscan"
   ]
  },
  {
   "cell_type": "code",
   "execution_count": 304,
   "metadata": {
    "collapsed": true
   },
   "outputs": [],
   "source": [
    "import matplotlib.pyplot as plt\n",
    "%matplotlib inline\n",
    "def plot_train_history(history, train_metrics, val_metrics):\n",
    "    plt.plot(history.history.get(train_metrics),'-o')\n",
    "    plt.plot(history.history.get(val_metrics),'-o')\n",
    "    plt.ylabel(train_metrics)\n",
    "    plt.xlabel('Epochs')\n",
    "    plt.legend(['train', 'validation'])"
   ]
  },
  {
   "cell_type": "code",
   "execution_count": 305,
   "metadata": {},
   "outputs": [
    {
     "data": {
      "text/plain": [
       "(2115, 2)"
      ]
     },
     "execution_count": 305,
     "metadata": {},
     "output_type": "execute_result"
    }
   ],
   "source": [
    "from sklearn.preprocessing import OneHotEncoder\n",
    "one = OneHotEncoder()\n",
    "label_onehot = one.fit_transform(label.reshape(-1,1)).toarray()\n",
    "train_X, test_X, train_y, test_y = clf.Split_data(data, label_onehot, test_size=0.25, Standard=True)\n",
    "train_y.shape"
   ]
  },
  {
   "cell_type": "code",
   "execution_count": 306,
   "metadata": {
    "collapsed": true
   },
   "outputs": [],
   "source": [
    "from keras.callbacks import EarlyStopping\n",
    "earlyStopping=EarlyStopping(monitor='val_loss', patience=10) #patience:number of epochs with no improvement after which training will be stopped."
   ]
  },
  {
   "cell_type": "code",
   "execution_count": 307,
   "metadata": {},
   "outputs": [],
   "source": [
    "from keras.models import Sequential\n",
    "from keras.layers import Dense, Activation, Dropout, BatchNormalization\n",
    "model = Sequential()\n",
    "model.add(Dense(128, input_dim=64, kernel_initializer='normal'))\n",
    "model.add(BatchNormalization())\n",
    "model.add(Activation('relu'))\n",
    "model.add(Dropout(0.2))\n",
    "model.add(Dense(16, kernel_initializer='normal'))\n",
    "model.add(BatchNormalization())\n",
    "model.add(Activation('relu'))\n",
    "model.add(Dense(2))\n",
    "model.add(Activation('sigmoid'))"
   ]
  },
  {
   "cell_type": "code",
   "execution_count": 308,
   "metadata": {
    "scrolled": true
   },
   "outputs": [
    {
     "name": "stdout",
     "output_type": "stream",
     "text": [
      "Train on 1586 samples, validate on 529 samples\n",
      "Epoch 1/100\n",
      "1586/1586 [==============================] - 3s 2ms/step - loss: 0.6717 - acc: 0.6028 - val_loss: 0.6891 - val_acc: 0.5784\n",
      "Epoch 2/100\n",
      "1586/1586 [==============================] - 0s 121us/step - loss: 0.6359 - acc: 0.6450 - val_loss: 0.6881 - val_acc: 0.5992\n",
      "Epoch 3/100\n",
      "1586/1586 [==============================] - 0s 104us/step - loss: 0.6184 - acc: 0.6784 - val_loss: 0.6856 - val_acc: 0.6163\n",
      "Epoch 4/100\n",
      "1586/1586 [==============================] - 0s 101us/step - loss: 0.6136 - acc: 0.6633 - val_loss: 0.6846 - val_acc: 0.6238\n",
      "Epoch 5/100\n",
      "1586/1586 [==============================] - 0s 99us/step - loss: 0.5933 - acc: 0.6892 - val_loss: 0.6816 - val_acc: 0.6087\n",
      "Epoch 6/100\n",
      "1586/1586 [==============================] - 0s 97us/step - loss: 0.5791 - acc: 0.7024 - val_loss: 0.6845 - val_acc: 0.5879\n",
      "Epoch 7/100\n",
      "1586/1586 [==============================] - 0s 98us/step - loss: 0.5736 - acc: 0.7119 - val_loss: 0.6829 - val_acc: 0.5652\n",
      "Epoch 8/100\n",
      "1586/1586 [==============================] - 0s 94us/step - loss: 0.5687 - acc: 0.7201 - val_loss: 0.6786 - val_acc: 0.5539\n",
      "Epoch 9/100\n",
      "1586/1586 [==============================] - 0s 92us/step - loss: 0.5536 - acc: 0.7137 - val_loss: 0.6758 - val_acc: 0.5614\n",
      "Epoch 10/100\n",
      "1586/1586 [==============================] - 0s 92us/step - loss: 0.5416 - acc: 0.7390 - val_loss: 0.6769 - val_acc: 0.5633\n",
      "Epoch 11/100\n",
      "1586/1586 [==============================] - 0s 90us/step - loss: 0.5323 - acc: 0.7358 - val_loss: 0.6761 - val_acc: 0.5784\n",
      "Epoch 12/100\n",
      "1586/1586 [==============================] - 0s 93us/step - loss: 0.5237 - acc: 0.7402 - val_loss: 0.6711 - val_acc: 0.5784\n",
      "Epoch 13/100\n",
      "1586/1586 [==============================] - 0s 127us/step - loss: 0.5156 - acc: 0.7427 - val_loss: 0.6703 - val_acc: 0.5860\n",
      "Epoch 14/100\n",
      "1586/1586 [==============================] - 0s 104us/step - loss: 0.4971 - acc: 0.7535 - val_loss: 0.6675 - val_acc: 0.6011\n",
      "Epoch 15/100\n",
      "1586/1586 [==============================] - 0s 132us/step - loss: 0.4942 - acc: 0.7686 - val_loss: 0.6631 - val_acc: 0.6125\n",
      "Epoch 16/100\n",
      "1586/1586 [==============================] - 0s 100us/step - loss: 0.4871 - acc: 0.7560 - val_loss: 0.6667 - val_acc: 0.6106\n",
      "Epoch 17/100\n",
      "1586/1586 [==============================] - 0s 96us/step - loss: 0.4812 - acc: 0.7648 - val_loss: 0.6704 - val_acc: 0.6030\n",
      "Epoch 18/100\n",
      "1586/1586 [==============================] - 0s 87us/step - loss: 0.4638 - acc: 0.7749 - val_loss: 0.6624 - val_acc: 0.6314\n",
      "Epoch 19/100\n",
      "1586/1586 [==============================] - 0s 106us/step - loss: 0.4618 - acc: 0.7818 - val_loss: 0.6510 - val_acc: 0.6597\n",
      "Epoch 20/100\n",
      "1586/1586 [==============================] - 0s 123us/step - loss: 0.4666 - acc: 0.7894 - val_loss: 0.6551 - val_acc: 0.6446\n",
      "Epoch 21/100\n",
      "1586/1586 [==============================] - 0s 102us/step - loss: 0.4460 - acc: 0.7919 - val_loss: 0.6566 - val_acc: 0.6560\n",
      "Epoch 22/100\n",
      "1586/1586 [==============================] - 0s 134us/step - loss: 0.4639 - acc: 0.7768 - val_loss: 0.6476 - val_acc: 0.6560\n",
      "Epoch 23/100\n",
      "1586/1586 [==============================] - 0s 93us/step - loss: 0.4393 - acc: 0.7989 - val_loss: 0.6453 - val_acc: 0.6635\n",
      "Epoch 24/100\n",
      "1586/1586 [==============================] - 0s 96us/step - loss: 0.4368 - acc: 0.8001 - val_loss: 0.6413 - val_acc: 0.6616\n",
      "Epoch 25/100\n",
      "1586/1586 [==============================] - 0s 106us/step - loss: 0.4320 - acc: 0.8064 - val_loss: 0.6522 - val_acc: 0.6635\n",
      "Epoch 26/100\n",
      "1586/1586 [==============================] - 0s 128us/step - loss: 0.4261 - acc: 0.7957 - val_loss: 0.6376 - val_acc: 0.6862\n",
      "Epoch 27/100\n",
      "1586/1586 [==============================] - 0s 99us/step - loss: 0.4192 - acc: 0.8052 - val_loss: 0.6426 - val_acc: 0.6711\n",
      "Epoch 28/100\n",
      "1586/1586 [==============================] - 0s 95us/step - loss: 0.3991 - acc: 0.8153 - val_loss: 0.6509 - val_acc: 0.6749\n",
      "Epoch 29/100\n",
      "1586/1586 [==============================] - 0s 126us/step - loss: 0.4102 - acc: 0.8184 - val_loss: 0.6477 - val_acc: 0.6824\n",
      "Epoch 30/100\n",
      "1586/1586 [==============================] - 0s 98us/step - loss: 0.3906 - acc: 0.8266 - val_loss: 0.6415 - val_acc: 0.6805\n",
      "Epoch 31/100\n",
      "1586/1586 [==============================] - 0s 93us/step - loss: 0.4039 - acc: 0.8115 - val_loss: 0.6494 - val_acc: 0.6900\n",
      "Epoch 32/100\n",
      "1586/1586 [==============================] - 0s 113us/step - loss: 0.3931 - acc: 0.8121 - val_loss: 0.6768 - val_acc: 0.6767\n",
      "Epoch 33/100\n",
      "1586/1586 [==============================] - 0s 99us/step - loss: 0.3949 - acc: 0.8127 - val_loss: 0.6635 - val_acc: 0.6843\n",
      "Epoch 34/100\n",
      "1586/1586 [==============================] - 0s 104us/step - loss: 0.3811 - acc: 0.8405 - val_loss: 0.6611 - val_acc: 0.6711\n",
      "Epoch 35/100\n",
      "1586/1586 [==============================] - 0s 97us/step - loss: 0.3599 - acc: 0.8373 - val_loss: 0.6844 - val_acc: 0.6541\n",
      "Epoch 36/100\n",
      "1586/1586 [==============================] - 0s 90us/step - loss: 0.3810 - acc: 0.8203 - val_loss: 0.6886 - val_acc: 0.6805\n"
     ]
    }
   ],
   "source": [
    "model.compile(optimizer='rmsprop',\n",
    "              loss='categorical_crossentropy',\n",
    "              metrics=['accuracy'])\n",
    "history = model.fit(train_X, train_y, epochs=100, batch_size=100, validation_split=0.25, verbose=1, callbacks=[earlyStopping])"
   ]
  },
  {
   "cell_type": "code",
   "execution_count": 309,
   "metadata": {},
   "outputs": [
    {
     "name": "stdout",
     "output_type": "stream",
     "text": [
      "705/705 [==============================] - 0s 43us/step\n"
     ]
    },
    {
     "data": {
      "text/plain": [
       "[0.714044690977597, 0.6326240878155891]"
      ]
     },
     "execution_count": 309,
     "metadata": {},
     "output_type": "execute_result"
    }
   ],
   "source": [
    "score = model.evaluate(test_X, test_y, batch_size=100)\n",
    "score"
   ]
  },
  {
   "cell_type": "code",
   "execution_count": 310,
   "metadata": {},
   "outputs": [
    {
     "data": {
      "image/png": "[encoded data removed]",
      "text/plain": [
       "<matplotlib.figure.Figure at 0x2d11f3ee1d0>"
      ]
     },
     "metadata": {},
     "output_type": "display_data"
    }
   ],
   "source": [
    "plt.figure(figsize=(12,4))\n",
    "plt.subplot(1,2,1)\n",
    "plot_train_history(history, 'loss','val_loss')\n",
    "plt.subplot(1,2,2)\n",
    "plot_train_history(history, 'acc','val_acc')"
   ]
  },
  {
   "cell_type": "code",
   "execution_count": 311,
   "metadata": {
    "scrolled": true
   },
   "outputs": [
    {
     "data": {
      "text/plain": [
       "array([[0.74837464, 0.00485333],\n",
       "       [0.13798182, 0.34832716],\n",
       "       [0.3865049 , 0.11568107],\n",
       "       ...,\n",
       "       [0.91245395, 0.99999607],\n",
       "       [0.10534941, 0.19222169],\n",
       "       [0.6317899 , 0.03075983]], dtype=float32)"
      ]
     },
     "execution_count": 311,
     "metadata": {},
     "output_type": "execute_result"
    }
   ],
   "source": [
    "model.predict(test_X)"
   ]
  },
  {
   "cell_type": "code",
   "execution_count": 312,
   "metadata": {},
   "outputs": [
    {
     "data": {
      "text/plain": [
       "array([[1., 0.],\n",
       "       [0., 1.],\n",
       "       [1., 0.],\n",
       "       ...,\n",
       "       [0., 1.],\n",
       "       [1., 0.],\n",
       "       [1., 0.]])"
      ]
     },
     "execution_count": 312,
     "metadata": {},
     "output_type": "execute_result"
    }
   ],
   "source": [
    "test_y"
   ]
  },
  {
   "cell_type": "code",
   "execution_count": 334,
   "metadata": {},
   "outputs": [],
   "source": [
    "data_df = pd.DataFrame(data)\n",
    "label_df = pd.DataFrame(label, columns=[64])\n",
    "All_df = pd.concat([data_df, label_df], axis=1)"
   ]
  },
  {
   "cell_type": "code",
   "execution_count": 342,
   "metadata": {},
   "outputs": [],
   "source": [
    "a = All_df.corr()[64]"
   ]
  },
  {
   "cell_type": "code",
   "execution_count": 357,
   "metadata": {},
   "outputs": [],
   "source": [
    "b = []\n",
    "for i in range(65):\n",
    "    if a[i] != 1.:\n",
    "        b.append(a[i])"
   ]
  },
  {
   "cell_type": "code",
   "execution_count": 359,
   "metadata": {},
   "outputs": [
    {
     "data": {
      "text/plain": [
       "0.04095950916125926"
      ]
     },
     "execution_count": 359,
     "metadata": {},
     "output_type": "execute_result"
    }
   ],
   "source": [
    "max(b)"
   ]
  },
  {
   "cell_type": "code",
   "execution_count": null,
   "metadata": {
    "collapsed": true
   },
   "outputs": [],
   "source": []
  }
 ],
 "metadata": {
  "kernelspec": {
   "display_name": "Python 3",
   "language": "python",
   "name": "python3"
  },
  "language_info": {
   "codemirror_mode": {
    "name": "ipython",
    "version": 3
   },
   "file_extension": ".py",
   "mimetype": "text/x-python",
   "name": "python",
   "nbconvert_exporter": "python",
   "pygments_lexer": "ipython3",
   "version": "3.6.1"
  }
 },
 "nbformat": 4,
 "nbformat_minor": 2
}
